{
  "nbformat": 4,
  "nbformat_minor": 0,
  "metadata": {
    "colab": {
      "name": "3 - Actividad - Lectura Datos - Pandas.ipynb",
      "provenance": [],
      "collapsed_sections": [],
      "include_colab_link": true
    },
    "kernelspec": {
      "name": "python3",
      "display_name": "Python 3"
    }
  },
  "cells": [
    {
      "cell_type": "markdown",
      "metadata": {
        "id": "view-in-github",
        "colab_type": "text"
      },
      "source": [
        "<a href=\"https://colab.research.google.com/github/TellesBenjamin/arte-analitica/blob/feature%2FSemana2105/3.3%20-%20Actividad%20-%20Lectura%20Datos%20-%20Pandas.ipynb\" target=\"_parent\"><img src=\"https://colab.research.google.com/assets/colab-badge.svg\" alt=\"Open In Colab\"/></a>"
      ]
    },
    {
      "cell_type": "markdown",
      "metadata": {
        "id": "SP4NFiDIvXB3"
      },
      "source": [
        "# Actividad 3\n",
        "- **Nombre**: Benjamin Telles Ramírez\n",
        "- **Matrícula**: A01245180\n",
        "\n",
        "# Entregar \n",
        "Archivo PDF de la actividad y la liga de la actividad en su repostitorio.\n",
        "\n",
        "# Nota: \n",
        "Todas las tareas entregadas fuera de la fecha limite se califican sobre 50 de los 100 puntos posibles.\n"
      ]
    },
    {
      "cell_type": "markdown",
      "metadata": {
        "id": "zrQkVJYDvv_t"
      },
      "source": [
        "1. Leer el archivo **netflix_titles.csv**\n",
        "\n"
      ]
    },
    {
      "cell_type": "code",
      "metadata": {
        "id": "LN_Wc76fvY66"
      },
      "source": [
        ""
      ],
      "execution_count": null,
      "outputs": []
    },
    {
      "cell_type": "markdown",
      "metadata": {
        "id": "ffquDfX_wihk"
      },
      "source": [
        "Observa las primeras líneas usando la función head"
      ]
    },
    {
      "cell_type": "markdown",
      "metadata": {
        "id": "isf0Y7AgwlZT"
      },
      "source": [
        "2. Genera una función que despliegue el primer reglon del achivo.\n"
      ]
    },
    {
      "cell_type": "code",
      "metadata": {
        "id": "FOtA7hjJxEH5"
      },
      "source": [
        "## Esta función debe de regresar una lista con los valores del primer reglon\n",
        "def top_uno():\n",
        "  return\n",
        "\n",
        "top_uno()"
      ],
      "execution_count": null,
      "outputs": []
    },
    {
      "cell_type": "markdown",
      "metadata": {
        "id": "6HO4HB-yxi6u"
      },
      "source": [
        "3. Genera una función que regrese el número de registros del archivo"
      ]
    },
    {
      "cell_type": "code",
      "metadata": {
        "id": "9sOQU-thxjIh"
      },
      "source": [
        "## Esta función tiene que entregar el número de registros del archivo\n",
        "def row_number():\n",
        "  return\n",
        "\n",
        "row_number()"
      ],
      "execution_count": null,
      "outputs": []
    },
    {
      "cell_type": "markdown",
      "metadata": {
        "id": "Gt6dUOR-yWkl"
      },
      "source": [
        "4. Generar una función que entrege las péliculas con release_year del 2020"
      ]
    },
    {
      "cell_type": "code",
      "metadata": {
        "id": "2GIB4LcryW4W"
      },
      "source": [
        "## Esta función tiene que entregar las películas creadas en el año 2020\n",
        "\n",
        "year_consulta=\n",
        "def released_year(year):\n",
        "  return\n",
        "\n",
        "released_year(year_consulta)"
      ],
      "execution_count": null,
      "outputs": []
    },
    {
      "cell_type": "markdown",
      "metadata": {
        "id": "lJe39YU9zQTt"
      },
      "source": [
        "5. Peliculas con la columna de contry='Mexico'\n"
      ]
    },
    {
      "cell_type": "code",
      "metadata": {
        "id": "A2fk5Au1zPmI"
      },
      "source": [
        "## Esta función tiene que entregar las películas creadas en Mexico\n",
        "pais_consula=\n",
        "\n",
        "def country_year(pais):\n",
        "  return\n",
        "\n",
        "country_year(pais_consuslta)"
      ],
      "execution_count": null,
      "outputs": []
    }
  ]
}